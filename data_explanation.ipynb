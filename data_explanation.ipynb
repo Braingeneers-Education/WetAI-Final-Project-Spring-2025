{
 "cells": [
  {
   "cell_type": "code",
   "execution_count": 7,
   "id": "36b47aa9",
   "metadata": {},
   "outputs": [],
   "source": [
    "import pandas as pd\n",
    "import numpy as np\n",
    "import pickle\n",
    "import os\n",
    "import glob\n",
    "import argparse  # Import argparse for command-line arguments\n",
    "\n",
    "import matplotlib.pyplot as plt\n",
    "import matplotlib.colors as mcolors # For color normalization\n",
    "\n",
    "from pathlib import Path\n",
    "# import spikedata\n",
    "# from spikedata.spikedata import SpikeData\n",
    "from braindance.analysis.mapping import Mapping # Moved import higher"
   ]
  },
  {
   "cell_type": "markdown",
   "id": "2b081a28",
   "metadata": {},
   "source": [
    "# Data Explanation"
   ]
  },
  {
   "cell_type": "markdown",
   "id": "55fc7a56",
   "metadata": {},
   "source": [
    "### 1. Define Path Pickled Dataset"
   ]
  },
  {
   "cell_type": "code",
   "execution_count": 8,
   "id": "dbf56746",
   "metadata": {},
   "outputs": [],
   "source": [
    "dataset_dir = Path(os.path.join(\"project_data\"))\n",
    "\n",
    "# --- File Paths ---\n",
    "metadata_path = dataset_dir / 'metadata.pkl'\n",
    "baseline_sd_path = dataset_dir / 'baseline_spike_data.pkl'\n",
    "adaptive_sd_path = dataset_dir / 'exp1_cartpole_long_6_spike_data.pkl'\n",
    "random_sd_path = dataset_dir / 'exp1_cartpole_long_7_spike_data.pkl'\n",
    "none_sd_path = dataset_dir / 'exp1_cartpole_long_8_spike_data.pkl'\n",
    "adaptive_logs_path = dataset_dir / 'exp1_cartpole_long_6_logs.pkl'\n",
    "random_logs_path = dataset_dir / 'exp1_cartpole_long_7_logs.pkl'\n",
    "none_logs_path = dataset_dir / 'exp1_cartpole_long_8_logs.pkl'"
   ]
  },
  {
   "cell_type": "markdown",
   "id": "ae9ec5e0",
   "metadata": {},
   "source": [
    "### 2. Load the Pickled Data"
   ]
  },
  {
   "cell_type": "code",
   "execution_count": 9,
   "id": "51103e55",
   "metadata": {},
   "outputs": [],
   "source": [
    "# --- Helper Functions ---\n",
    "def load_pickle(p):\n",
    "    with open(p, 'rb') as f:\n",
    "        data = pickle.load(f)\n",
    "    return data"
   ]
  },
  {
   "cell_type": "code",
   "execution_count": 10,
   "id": "6e07d253",
   "metadata": {},
   "outputs": [
    {
     "name": "stdout",
     "output_type": "stream",
     "text": [
      "Loading experiment data...\tComplete!\n"
     ]
    }
   ],
   "source": [
    "# --- Data Loading ---\n",
    "print(\"Loading experiment data...\", end='\\t')\n",
    "metadata = load_pickle(metadata_path)\n",
    "baseline_sd = load_pickle(baseline_sd_path)\n",
    "adaptive_sd = load_pickle(adaptive_sd_path)\n",
    "adaptive_logs = load_pickle(adaptive_logs_path) # Logs might be needed later\n",
    "random_sd = load_pickle(random_sd_path)\n",
    "random_logs = load_pickle(random_logs_path)\n",
    "none_sd = load_pickle(none_sd_path)\n",
    "none_logs = load_pickle(none_logs_path)\n",
    "print(\"Complete!\")"
   ]
  },
  {
   "cell_type": "markdown",
   "id": "9b9c5f90",
   "metadata": {},
   "source": [
    "### 3. Further Data Extraction"
   ]
  },
  {
   "cell_type": "code",
   "execution_count": 11,
   "id": "74b4d10a",
   "metadata": {},
   "outputs": [],
   "source": [
    "# --- Data Extraction ---\n",
    "mapping = metadata['mapping']\n",
    "encode_electrodes = metadata['encode_electrodes']\n",
    "decode_electrodes = metadata['decode_electrodes']\n",
    "training_electrodes = metadata['training_electrodes']\n",
    "spike_channels = metadata['spike_channels'] # List of arrays\n",
    "spike_locs = metadata['spike_locs'] # List of tuples/arrays (x, y)\n",
    "\n",
    "# Ensure spike_locs is a numpy array for easier slicing\n",
    "spike_locs = np.array(spike_locs)\n",
    "spikes_x = spike_locs[:, 0]\n",
    "spikes_y = spike_locs[:, 1]\n",
    "\n",
    "# --- Mapping and Positions ---\n",
    "mapper = Mapping().from_df(mapping)\n",
    "encode_positions = mapper.get_positions(electrodes=encode_electrodes)\n",
    "decode_positions = mapper.get_positions(electrodes=decode_electrodes)\n",
    "training_positions = mapper.get_positions(electrodes=training_electrodes)\n",
    "all_positions = mapper.get_positions()"
   ]
  },
  {
   "cell_type": "markdown",
   "id": "d2ad6734",
   "metadata": {},
   "source": [
    "## Metadata explained\n",
    "\n",
    "The metadata is a dict with the following keys: \n",
    "* `'mapping'`: mapping                        $\\implies$ pd dataframe mapping of the channels/electrodes to positions\n",
    "* `'fs'`: fs                                  $\\implies$ The sampling frequency\n",
    "* `'stim_electrodes'`: stim_electrodes        $\\implies$ The electrodes that were stimulated\n",
    "* `'stim_inds'`: stim_inds                    $\\implies$ The indices of the stimulated electrodes\n",
    "* `'encode_electrodes'`: encode_electrodes    $\\implies$ The electrodes that were used to stimulate in information\n",
    "* `'encode_inds'`: encode_inds                $\\implies$ The corresponding indices of the encode electrodes\n",
    "* `'decode_electrodes'`: decode_electrodes    $\\implies$ The electrodes that were used to decode information\n",
    "* `'training_electrodes'`: training_electrodes $\\implies$ The electrodes that were used to train the model\n",
    "* `'training_inds'`: training_inds            $\\implies$ The corresponding indices of the training electrodes\n",
    "* `'spike_channels'`: spike_channels          $\\implies$ List of arrays of channels for each sorted neuron\n",
    "* `'spike_locs'`: spike_locs                  $\\implies$ x,y position of each sorted neuron"
   ]
  },
  {
   "cell_type": "code",
   "execution_count": 13,
   "id": "d000a1b2",
   "metadata": {},
   "outputs": [
    {
     "name": "stdout",
     "output_type": "stream",
     "text": [
      "<class 'dict'>\n",
      "dict_keys(['mapping', 'fs', 'stim_electrodes', 'stim_inds', 'encode_electrodes', 'encode_inds', 'decode_electrodes', 'training_electrodes', 'training_inds', 'spike_channels', 'spike_locs'])\n"
     ]
    }
   ],
   "source": [
    "print(type(metadata))\n",
    "print(metadata.keys())"
   ]
  },
  {
   "cell_type": "markdown",
   "id": "bb75ef1c",
   "metadata": {},
   "source": [
    "The metadata has lots of important information, for example it has the location of the spikesorted electrodes"
   ]
  },
  {
   "cell_type": "code",
   "execution_count": 31,
   "id": "69b198a4",
   "metadata": {},
   "outputs": [
    {
     "data": {
      "text/html": [
       "<div>\n",
       "<style scoped>\n",
       "    .dataframe tbody tr th:only-of-type {\n",
       "        vertical-align: middle;\n",
       "    }\n",
       "\n",
       "    .dataframe tbody tr th {\n",
       "        vertical-align: top;\n",
       "    }\n",
       "\n",
       "    .dataframe thead th {\n",
       "        text-align: right;\n",
       "    }\n",
       "</style>\n",
       "<table border=\"1\" class=\"dataframe\">\n",
       "  <thead>\n",
       "    <tr style=\"text-align: right;\">\n",
       "      <th></th>\n",
       "      <th>channel</th>\n",
       "      <th>electrode</th>\n",
       "      <th>x</th>\n",
       "      <th>y</th>\n",
       "    </tr>\n",
       "  </thead>\n",
       "  <tbody>\n",
       "    <tr>\n",
       "      <th>0</th>\n",
       "      <td>0</td>\n",
       "      <td>18598</td>\n",
       "      <td>2065.0</td>\n",
       "      <td>1470.0</td>\n",
       "    </tr>\n",
       "    <tr>\n",
       "      <th>1</th>\n",
       "      <td>1</td>\n",
       "      <td>20644</td>\n",
       "      <td>3220.0</td>\n",
       "      <td>1627.5</td>\n",
       "    </tr>\n",
       "    <tr>\n",
       "      <th>2</th>\n",
       "      <td>2</td>\n",
       "      <td>19040</td>\n",
       "      <td>2100.0</td>\n",
       "      <td>1505.0</td>\n",
       "    </tr>\n",
       "    <tr>\n",
       "      <th>3</th>\n",
       "      <td>3</td>\n",
       "      <td>21723</td>\n",
       "      <td>2852.5</td>\n",
       "      <td>1715.0</td>\n",
       "    </tr>\n",
       "    <tr>\n",
       "      <th>4</th>\n",
       "      <td>4</td>\n",
       "      <td>14939</td>\n",
       "      <td>3482.5</td>\n",
       "      <td>1172.5</td>\n",
       "    </tr>\n",
       "  </tbody>\n",
       "</table>\n",
       "</div>"
      ],
      "text/plain": [
       "   channel  electrode       x       y\n",
       "0        0      18598  2065.0  1470.0\n",
       "1        1      20644  3220.0  1627.5\n",
       "2        2      19040  2100.0  1505.0\n",
       "3        3      21723  2852.5  1715.0\n",
       "4        4      14939  3482.5  1172.5"
      ]
     },
     "execution_count": 31,
     "metadata": {},
     "output_type": "execute_result"
    }
   ],
   "source": [
    "metadata['mapping'].head(5)"
   ]
  },
  {
   "cell_type": "markdown",
   "id": "9cc0a5c7",
   "metadata": {},
   "source": [
    "The sampling frequency"
   ]
  },
  {
   "cell_type": "code",
   "execution_count": 34,
   "id": "63938d16",
   "metadata": {},
   "outputs": [
    {
     "name": "stdout",
     "output_type": "stream",
     "text": [
      "20000\n"
     ]
    }
   ],
   "source": [
    "print(metadata['fs'])"
   ]
  },
  {
   "cell_type": "markdown",
   "id": "4be2e5e2",
   "metadata": {},
   "source": [
    "Which electrodes are **stim**, **training**, **encoding**, and **decoding**"
   ]
  },
  {
   "cell_type": "code",
   "execution_count": 35,
   "id": "606948bb",
   "metadata": {},
   "outputs": [
    {
     "name": "stdout",
     "output_type": "stream",
     "text": [
      "[23275, 24768, 22182, 23923, 909, 3229, 17335, 25039]\n",
      "[23275, 25039]\n",
      "[18429, 18385]\n",
      "[24768, 22182, 23923, 909, 3229, 17335]\n"
     ]
    }
   ],
   "source": [
    "print(metadata['stim_electrodes'])\n",
    "print(metadata['encode_electrodes'])\n",
    "print(metadata['decode_electrodes'])\n",
    "print(metadata['training_electrodes'])"
   ]
  },
  {
   "cell_type": "markdown",
   "id": "e53691e8",
   "metadata": {},
   "source": [
    "The data for spike raster and spike locations"
   ]
  },
  {
   "cell_type": "code",
   "execution_count": 43,
   "id": "131952ba",
   "metadata": {},
   "outputs": [
    {
     "name": "stdout",
     "output_type": "stream",
     "text": [
      "[[2065.  1470. ]\n",
      " [2065.  1470. ]\n",
      " [2100.  1505. ]\n",
      " [3185.  1662.5]\n",
      " [3185.  1662.5]\n",
      " [3185.  1662.5]\n",
      " [3150.  1557.5]\n",
      " [3150.  1575. ]\n",
      " [3150.  1575. ]\n",
      " [3150.  1785. ]]\n",
      "108\n"
     ]
    }
   ],
   "source": [
    "# print first 10\n",
    "print(metadata['spike_locs'][0:10])\n",
    "# print length\n",
    "print(len(metadata['spike_locs']))"
   ]
  },
  {
   "cell_type": "markdown",
   "id": "7ecc5086",
   "metadata": {},
   "source": [
    "## Spiking Data Explained\n",
    "\n",
    "The spiking data (sd) the following: \n",
    "* `baseline_sd`          $\\implies$ The SpikeData object for the baseline recording\n",
    "* `adaptive_sd`          $\\implies$ The SpikeData object for the adaptive recording\n",
    "* `random_sd`            $\\implies$ The SpikeData object for the random recording\n",
    "* `none_sd`              $\\implies$ The SpikeData object for the none recording\n",
    "\n",
    "For more info about the SpikeData class: https://github.com/braingeneers/SpikeData"
   ]
  },
  {
   "cell_type": "code",
   "execution_count": 16,
   "id": "6a849e6a",
   "metadata": {},
   "outputs": [
    {
     "name": "stdout",
     "output_type": "stream",
     "text": [
      "<class 'spikedata.spikedata.SpikeData'>\n",
      "<class 'spikedata.spikedata.SpikeData'>\n",
      "<class 'spikedata.spikedata.SpikeData'>\n",
      "<class 'spikedata.spikedata.SpikeData'>\n"
     ]
    }
   ],
   "source": [
    "print(type(baseline_sd))\n",
    "print(type(adaptive_sd))\n",
    "print(type(random_sd))\n",
    "print(type(none_sd))"
   ]
  },
  {
   "cell_type": "markdown",
   "id": "76fcb950",
   "metadata": {},
   "source": [
    "We learned in a previous electrophysiology homework we can easily plot the STTC from this class"
   ]
  },
  {
   "cell_type": "code",
   "execution_count": 29,
   "id": "741beec1",
   "metadata": {},
   "outputs": [
    {
     "data": {
      "image/png": "[encoded data removed]",
      "text/plain": [
       "<Figure size 640x480 with 1 Axes>"
      ]
     },
     "metadata": {},
     "output_type": "display_data"
    }
   ],
   "source": [
    "sttc = baseline_sd.spike_time_tilings()\n",
    "plt.title('Baseline STTC')\n",
    "plt.imshow(sttc)\n",
    "plt.xlabel(\"Neuron index\")\n",
    "plt.ylabel(\"Neuron index\")\n",
    "plt.show()"
   ]
  },
  {
   "cell_type": "markdown",
   "id": "6c35a612",
   "metadata": {},
   "source": [
    "## Logs:\n",
    "\n",
    "* ( Baseline has no logs )\n",
    "* Logs has the keys ['game', 'reward', 'log', 'pattern']\n",
    "* Each of the values from these keys is a pandas dataframe with the following columns:\n",
    "\n",
    "Logs is a dict with the keys:\n",
    "* `'game'`: `['time','pole_angle', 'reward', 'action', 'x', 'xdot', 'theta', 'thetadot']` # This is the game log\n",
    "* `'reward'`: `['time', 'episode','reward']` # This is the reward log\n",
    "* `'log'`: `['time', 'amplitude', 'duty_time_ms', 'stim_electrodes', 'tag', 'stim_pattern']` # This is the stim log\n",
    "* `'pattern'`: `['pattern', 'time', 'stim_indices']` # This is the training stimulus log"
   ]
  },
  {
   "cell_type": "code",
   "execution_count": 17,
   "id": "79ba9aba",
   "metadata": {},
   "outputs": [
    {
     "name": "stdout",
     "output_type": "stream",
     "text": [
      "<class 'dict'>\n"
     ]
    }
   ],
   "source": [
    "print(type(adaptive_logs))"
   ]
  },
  {
   "cell_type": "markdown",
   "id": "aba37918",
   "metadata": {},
   "source": [
    "This is the log of the cartpole game state over time"
   ]
  },
  {
   "cell_type": "code",
   "execution_count": 21,
   "id": "86c79f27",
   "metadata": {},
   "outputs": [
    {
     "data": {
      "text/html": [
       "<div>\n",
       "<style scoped>\n",
       "    .dataframe tbody tr th:only-of-type {\n",
       "        vertical-align: middle;\n",
       "    }\n",
       "\n",
       "    .dataframe tbody tr th {\n",
       "        vertical-align: top;\n",
       "    }\n",
       "\n",
       "    .dataframe thead th {\n",
       "        text-align: right;\n",
       "    }\n",
       "</style>\n",
       "<table border=\"1\" class=\"dataframe\">\n",
       "  <thead>\n",
       "    <tr style=\"text-align: right;\">\n",
       "      <th></th>\n",
       "      <th>time</th>\n",
       "      <th>pole_angle</th>\n",
       "      <th>action</th>\n",
       "      <th>x</th>\n",
       "      <th>xdot</th>\n",
       "      <th>theta</th>\n",
       "      <th>thetadot</th>\n",
       "    </tr>\n",
       "  </thead>\n",
       "  <tbody>\n",
       "    <tr>\n",
       "      <th>0</th>\n",
       "      <td>0.214106</td>\n",
       "      <td>-0.020200</td>\n",
       "      <td>1.0000</td>\n",
       "      <td>-0.040879</td>\n",
       "      <td>0.187582</td>\n",
       "      <td>-0.020200</td>\n",
       "      <td>-0.300026</td>\n",
       "    </tr>\n",
       "    <tr>\n",
       "      <th>1</th>\n",
       "      <td>0.416450</td>\n",
       "      <td>-0.026201</td>\n",
       "      <td>1.0000</td>\n",
       "      <td>-0.037127</td>\n",
       "      <td>0.382986</td>\n",
       "      <td>-0.026201</td>\n",
       "      <td>-0.599010</td>\n",
       "    </tr>\n",
       "    <tr>\n",
       "      <th>2</th>\n",
       "      <td>0.620427</td>\n",
       "      <td>-0.038181</td>\n",
       "      <td>1.0000</td>\n",
       "      <td>-0.029468</td>\n",
       "      <td>0.578465</td>\n",
       "      <td>-0.038181</td>\n",
       "      <td>-0.899830</td>\n",
       "    </tr>\n",
       "    <tr>\n",
       "      <th>3</th>\n",
       "      <td>0.822734</td>\n",
       "      <td>-0.056178</td>\n",
       "      <td>-0.8832</td>\n",
       "      <td>-0.017898</td>\n",
       "      <td>0.406668</td>\n",
       "      <td>-0.056178</td>\n",
       "      <td>-0.653545</td>\n",
       "    </tr>\n",
       "    <tr>\n",
       "      <th>4</th>\n",
       "      <td>1.025152</td>\n",
       "      <td>-0.069249</td>\n",
       "      <td>1.0000</td>\n",
       "      <td>-0.009765</td>\n",
       "      <td>0.602526</td>\n",
       "      <td>-0.069249</td>\n",
       "      <td>-0.963375</td>\n",
       "    </tr>\n",
       "  </tbody>\n",
       "</table>\n",
       "</div>"
      ],
      "text/plain": [
       "       time  pole_angle  action         x      xdot     theta  thetadot\n",
       "0  0.214106   -0.020200  1.0000 -0.040879  0.187582 -0.020200 -0.300026\n",
       "1  0.416450   -0.026201  1.0000 -0.037127  0.382986 -0.026201 -0.599010\n",
       "2  0.620427   -0.038181  1.0000 -0.029468  0.578465 -0.038181 -0.899830\n",
       "3  0.822734   -0.056178 -0.8832 -0.017898  0.406668 -0.056178 -0.653545\n",
       "4  1.025152   -0.069249  1.0000 -0.009765  0.602526 -0.069249 -0.963375"
      ]
     },
     "execution_count": 21,
     "metadata": {},
     "output_type": "execute_result"
    }
   ],
   "source": [
    "adaptive_logs['game'].head(5)"
   ]
  },
  {
   "cell_type": "markdown",
   "id": "410d61a4",
   "metadata": {},
   "source": [
    "This is the log of the reward over time"
   ]
  },
  {
   "cell_type": "code",
   "execution_count": 22,
   "id": "a4f21c6a",
   "metadata": {},
   "outputs": [
    {
     "data": {
      "text/html": [
       "<div>\n",
       "<style scoped>\n",
       "    .dataframe tbody tr th:only-of-type {\n",
       "        vertical-align: middle;\n",
       "    }\n",
       "\n",
       "    .dataframe tbody tr th {\n",
       "        vertical-align: top;\n",
       "    }\n",
       "\n",
       "    .dataframe thead th {\n",
       "        text-align: right;\n",
       "    }\n",
       "</style>\n",
       "<table border=\"1\" class=\"dataframe\">\n",
       "  <thead>\n",
       "    <tr style=\"text-align: right;\">\n",
       "      <th></th>\n",
       "      <th>time</th>\n",
       "      <th>episode</th>\n",
       "      <th>reward</th>\n",
       "    </tr>\n",
       "  </thead>\n",
       "  <tbody>\n",
       "    <tr>\n",
       "      <th>0</th>\n",
       "      <td>3.911218</td>\n",
       "      <td>0</td>\n",
       "      <td>19.0</td>\n",
       "    </tr>\n",
       "    <tr>\n",
       "      <th>1</th>\n",
       "      <td>18.770805</td>\n",
       "      <td>1</td>\n",
       "      <td>56.0</td>\n",
       "    </tr>\n",
       "    <tr>\n",
       "      <th>2</th>\n",
       "      <td>24.654084</td>\n",
       "      <td>2</td>\n",
       "      <td>12.0</td>\n",
       "    </tr>\n",
       "    <tr>\n",
       "      <th>3</th>\n",
       "      <td>31.596691</td>\n",
       "      <td>3</td>\n",
       "      <td>17.0</td>\n",
       "    </tr>\n",
       "    <tr>\n",
       "      <th>4</th>\n",
       "      <td>38.112137</td>\n",
       "      <td>4</td>\n",
       "      <td>15.0</td>\n",
       "    </tr>\n",
       "  </tbody>\n",
       "</table>\n",
       "</div>"
      ],
      "text/plain": [
       "        time  episode  reward\n",
       "0   3.911218        0    19.0\n",
       "1  18.770805        1    56.0\n",
       "2  24.654084        2    12.0\n",
       "3  31.596691        3    17.0\n",
       "4  38.112137        4    15.0"
      ]
     },
     "execution_count": 22,
     "metadata": {},
     "output_type": "execute_result"
    }
   ],
   "source": [
    "adaptive_logs['reward'].head(5)"
   ]
  },
  {
   "cell_type": "markdown",
   "id": "4e4a1033",
   "metadata": {},
   "source": [
    "In a previous homework we learned to plot the rewards over time"
   ]
  },
  {
   "cell_type": "code",
   "execution_count": 30,
   "id": "1fd905f8",
   "metadata": {},
   "outputs": [
    {
     "data": {
      "image/png": "[encoded data removed]",
      "text/plain": [
       "<Figure size 640x480 with 1 Axes>"
      ]
     },
     "metadata": {},
     "output_type": "display_data"
    }
   ],
   "source": [
    "plt.plot(adaptive_logs['reward']['time'], adaptive_logs['reward']['reward'])\n",
    "plt.xlabel('Time')\n",
    "plt.ylabel('Reward')\n",
    "plt.title('Adapative Rewards')\n",
    "plt.show()"
   ]
  },
  {
   "cell_type": "markdown",
   "id": "f09aeb81",
   "metadata": {},
   "source": [
    "This is the log of the stimulus over time"
   ]
  },
  {
   "cell_type": "code",
   "execution_count": 23,
   "id": "3da73a12",
   "metadata": {},
   "outputs": [
    {
     "data": {
      "text/html": [
       "<div>\n",
       "<style scoped>\n",
       "    .dataframe tbody tr th:only-of-type {\n",
       "        vertical-align: middle;\n",
       "    }\n",
       "\n",
       "    .dataframe tbody tr th {\n",
       "        vertical-align: top;\n",
       "    }\n",
       "\n",
       "    .dataframe thead th {\n",
       "        text-align: right;\n",
       "    }\n",
       "</style>\n",
       "<table border=\"1\" class=\"dataframe\">\n",
       "  <thead>\n",
       "    <tr style=\"text-align: right;\">\n",
       "      <th></th>\n",
       "      <th>time</th>\n",
       "      <th>amplitude</th>\n",
       "      <th>duty_time_ms</th>\n",
       "      <th>stim_electrodes</th>\n",
       "      <th>tag</th>\n",
       "      <th>stim_pattern</th>\n",
       "    </tr>\n",
       "  </thead>\n",
       "  <tbody>\n",
       "    <tr>\n",
       "      <th>0</th>\n",
       "      <td>0.96075</td>\n",
       "      <td>400</td>\n",
       "      <td>200</td>\n",
       "      <td>[23275, 25039]</td>\n",
       "      <td>sensory</td>\n",
       "      <td>(23275, 25039)</td>\n",
       "    </tr>\n",
       "    <tr>\n",
       "      <th>1</th>\n",
       "      <td>1.53725</td>\n",
       "      <td>400</td>\n",
       "      <td>200</td>\n",
       "      <td>[23275]</td>\n",
       "      <td>sensory</td>\n",
       "      <td>(23275,)</td>\n",
       "    </tr>\n",
       "    <tr>\n",
       "      <th>2</th>\n",
       "      <td>1.96070</td>\n",
       "      <td>400</td>\n",
       "      <td>200</td>\n",
       "      <td>[23275]</td>\n",
       "      <td>sensory</td>\n",
       "      <td>(23275,)</td>\n",
       "    </tr>\n",
       "    <tr>\n",
       "      <th>3</th>\n",
       "      <td>2.28165</td>\n",
       "      <td>400</td>\n",
       "      <td>200</td>\n",
       "      <td>[23275]</td>\n",
       "      <td>sensory</td>\n",
       "      <td>(23275,)</td>\n",
       "    </tr>\n",
       "    <tr>\n",
       "      <th>4</th>\n",
       "      <td>2.56130</td>\n",
       "      <td>400</td>\n",
       "      <td>200</td>\n",
       "      <td>[23275]</td>\n",
       "      <td>sensory</td>\n",
       "      <td>(23275,)</td>\n",
       "    </tr>\n",
       "  </tbody>\n",
       "</table>\n",
       "</div>"
      ],
      "text/plain": [
       "      time amplitude  duty_time_ms stim_electrodes      tag    stim_pattern\n",
       "0  0.96075       400           200  [23275, 25039]  sensory  (23275, 25039)\n",
       "1  1.53725       400           200         [23275]  sensory        (23275,)\n",
       "2  1.96070       400           200         [23275]  sensory        (23275,)\n",
       "3  2.28165       400           200         [23275]  sensory        (23275,)\n",
       "4  2.56130       400           200         [23275]  sensory        (23275,)"
      ]
     },
     "execution_count": 23,
     "metadata": {},
     "output_type": "execute_result"
    }
   ],
   "source": [
    "adaptive_logs['log'].head(5)"
   ]
  },
  {
   "cell_type": "markdown",
   "id": "a07a7c37",
   "metadata": {},
   "source": [
    "This is the log of the reward to which stimulus indices over time"
   ]
  },
  {
   "cell_type": "code",
   "execution_count": 24,
   "id": "6cf08fe6",
   "metadata": {},
   "outputs": [
    {
     "data": {
      "text/html": [
       "<div>\n",
       "<style scoped>\n",
       "    .dataframe tbody tr th:only-of-type {\n",
       "        vertical-align: middle;\n",
       "    }\n",
       "\n",
       "    .dataframe tbody tr th {\n",
       "        vertical-align: top;\n",
       "    }\n",
       "\n",
       "    .dataframe thead th {\n",
       "        text-align: right;\n",
       "    }\n",
       "</style>\n",
       "<table border=\"1\" class=\"dataframe\">\n",
       "  <thead>\n",
       "    <tr style=\"text-align: right;\">\n",
       "      <th></th>\n",
       "      <th>time</th>\n",
       "      <th>reward</th>\n",
       "      <th>stim_indices</th>\n",
       "    </tr>\n",
       "  </thead>\n",
       "  <tbody>\n",
       "    <tr>\n",
       "      <th>0</th>\n",
       "      <td>3.911506</td>\n",
       "      <td>19.0</td>\n",
       "      <td>[4, 3]</td>\n",
       "    </tr>\n",
       "    <tr>\n",
       "      <th>1</th>\n",
       "      <td>4.019525</td>\n",
       "      <td>19.0</td>\n",
       "      <td>[4, 3]</td>\n",
       "    </tr>\n",
       "    <tr>\n",
       "      <th>2</th>\n",
       "      <td>4.128859</td>\n",
       "      <td>19.0</td>\n",
       "      <td>[4, 3]</td>\n",
       "    </tr>\n",
       "    <tr>\n",
       "      <th>3</th>\n",
       "      <td>4.237211</td>\n",
       "      <td>19.0</td>\n",
       "      <td>[4, 3]</td>\n",
       "    </tr>\n",
       "    <tr>\n",
       "      <th>4</th>\n",
       "      <td>18.771035</td>\n",
       "      <td>56.0</td>\n",
       "      <td>[6, 5]</td>\n",
       "    </tr>\n",
       "  </tbody>\n",
       "</table>\n",
       "</div>"
      ],
      "text/plain": [
       "        time  reward stim_indices\n",
       "0   3.911506    19.0       [4, 3]\n",
       "1   4.019525    19.0       [4, 3]\n",
       "2   4.128859    19.0       [4, 3]\n",
       "3   4.237211    19.0       [4, 3]\n",
       "4  18.771035    56.0       [6, 5]"
      ]
     },
     "execution_count": 24,
     "metadata": {},
     "output_type": "execute_result"
    }
   ],
   "source": [
    "adaptive_logs['pattern'].head(5)"
   ]
  },
  {
   "cell_type": "code",
   "execution_count": null,
   "id": "a8cb7149",
   "metadata": {},
   "outputs": [],
   "source": []
  }
 ],
 "metadata": {
  "kernelspec": {
   "display_name": "venv",
   "language": "python",
   "name": "python3"
  },
  "language_info": {
   "codemirror_mode": {
    "name": "ipython",
    "version": 3
   },
   "file_extension": ".py",
   "mimetype": "text/x-python",
   "name": "python",
   "nbconvert_exporter": "python",
   "pygments_lexer": "ipython3",
   "version": "3.10.9"
  }
 },
 "nbformat": 4,
 "nbformat_minor": 5
}
