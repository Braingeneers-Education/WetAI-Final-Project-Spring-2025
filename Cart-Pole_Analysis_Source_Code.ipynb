{
 "cells": [
  {
   "cell_type": "markdown",
   "id": "58d52a22",
   "metadata": {},
   "source": []
  },
  {
   "cell_type": "markdown",
   "id": "7763e956",
   "metadata": {},
   "source": []
  },
  {
   "cell_type": "markdown",
   "id": "25f67e84",
   "metadata": {},
   "source": []
  },
  {
   "cell_type": "markdown",
   "id": "481e2e7f",
   "metadata": {},
   "source": []
  }
 ],
 "metadata": {
  "language_info": {
   "name": "python"
  }
 },
 "nbformat": 4,
 "nbformat_minor": 5
}
