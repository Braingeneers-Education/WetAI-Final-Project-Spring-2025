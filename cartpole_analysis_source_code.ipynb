{
 "cells": [
  {
   "cell_type": "markdown",
   "id": "7763e956",
   "metadata": {},
   "source": [
    "<font size=7 face=\"courier\">Cart-Pole Analysis Source Code"
   ]
  },
  {
   "cell_type": "markdown",
   "id": "25f67e84",
   "metadata": {},
   "source": [
    "This is the code used to create the diagrams in the notebook, `cartpole_analysis.ipynb`. I recommend you at least go through some of these functions to understand how to implement your own analysis functions."
   ]
  },
  {
   "cell_type": "code",
   "execution_count": null,
   "id": "f453f0d9",
   "metadata": {},
   "outputs": [
    {
     "name": "stdout",
     "output_type": "stream",
     "text": [
      "hello\n"
     ]
    }
   ],
   "source": [
    "print(\"Loading: final_analysis_source_code.ipynb...\")"
   ]
  },
  {
   "cell_type": "markdown",
   "id": "51d86518",
   "metadata": {},
   "source": [
    "Import packages"
   ]
  },
  {
   "cell_type": "code",
   "execution_count": null,
   "id": "0632e792",
   "metadata": {},
   "outputs": [],
   "source": [
    "import pandas as pd\n",
    "import numpy as np\n",
    "import pickle\n",
    "import pytz\n",
    "import sys\n",
    "import json\n",
    "import zipfile\n",
    "import glob\n",
    "import argparse  # Import argparse for command-line arguments\n",
    "from datetime import datetime\n",
    "\n",
    "import matplotlib.pyplot as plt\n",
    "import matplotlib.colors as mcolors # For color normalization\n",
    "\n",
    "from pathlib import Path\n",
    "from braingeneers.analysis.analysis import SpikeData\n",
    "\n",
    "import scipy.io as sio\n",
    "import scipy\n",
    "from scipy.ndimage import gaussian_filter1d\n",
    "\n",
    "import spikedata\n",
    "from spikedata.spikedata import SpikeData\n",
    "#from braindance.analysis.mapping import Mapping # Moved import higher"
   ]
  },
  {
   "cell_type": "markdown",
   "id": "40417c70",
   "metadata": {},
   "source": [
    "Here is some minor stuff to help set up the notebook :"
   ]
  },
  {
   "cell_type": "code",
   "execution_count": null,
   "id": "f4d1fbdc",
   "metadata": {},
   "outputs": [],
   "source": [
    "Timezone = pytz.timezone(\"America/Los_Angeles\")"
   ]
  },
  {
   "cell_type": "markdown",
   "id": "b7229be1",
   "metadata": {},
   "source": [
    "# <font color=\"blue\"> Loading Data"
   ]
  },
  {
   "cell_type": "code",
   "execution_count": null,
   "id": "96aca05f",
   "metadata": {},
   "outputs": [],
   "source": [
    "def load_pickle(p):\n",
    "    with open(p, 'rb') as f:\n",
    "        data = pickle.load(f)\n",
    "    return data\n",
    "\n",
    "def get_save_path(filename_base):\n",
    "    \"\"\"Generates a unique save path, appending a number if the file exists.\"\"\"\n",
    "    save_path = output_dir / f\"{filename_base}.png\"\n",
    "    if save_path.exists():\n",
    "        n_existing = len(list(output_dir.glob(f\"{filename_base}_*.png\")))\n",
    "        save_path = output_dir / f\"{filename_base}_{n_existing+1}.png\"\n",
    "    return save_path\n"
   ]
  },
  {
   "cell_type": "code",
   "execution_count": null,
   "id": "cc985b04",
   "metadata": {},
   "outputs": [],
   "source": [
    "dataset_dir = Path(\"data\")\n",
    "metadata_path = dataset_dir / 'metadata.pkl'\n",
    "baseline_sd_path = dataset_dir / 'baseline_spike_data.pkl'\n",
    "adaptive_sd_path = dataset_dir / 'exp1_cartpole_long_6_spike_data.pkl'\n",
    "random_sd_path = dataset_dir / 'exp1_cartpole_long_7_spike_data.pkl'\n",
    "none_sd_path = dataset_dir / 'exp1_cartpole_long_8_spike_data.pkl'\n",
    "adaptive_logs_path = dataset_dir / 'exp1_cartpole_long_6_logs.pkl'\n",
    "random_logs_path = dataset_dir / 'exp1_cartpole_long_7_logs.pkl'\n",
    "none_logs_path = dataset_dir / 'exp1_cartpole_long_8_logs.pkl'\n",
    "metadata = load_pickle(metadata_path)\n",
    "baseline_sd = load_pickle(baseline_sd_path)\n",
    "adaptive_sd = load_pickle(adaptive_sd_path)\n",
    "adaptive_logs = load_pickle(adaptive_logs_path) # Logs might be needed later\n",
    "random_sd = load_pickle(random_sd_path)\n",
    "random_logs = load_pickle(random_logs_path)\n",
    "none_sd = load_pickle(none_sd_path)\n",
    "none_logs = load_pickle(none_logs_path)\n",
    "\n"
   ]
  },
  {
   "cell_type": "markdown",
   "id": "aebb045a",
   "metadata": {},
   "source": [
    "# <font color=\"Green\">Analysis Plots"
   ]
  },
  {
   "cell_type": "markdown",
   "id": "2aa51d4e",
   "metadata": {},
   "source": [
    "Here is the source code for all the figures used in the main notebook. Feel free to use these as reference/inspiration when working on your own analysis methods!"
   ]
  },
  {
   "cell_type": "code",
   "execution_count": null,
   "id": "47e6f80e",
   "metadata": {},
   "outputs": [],
   "source": [
    "def plotRaster( sd, title, ax):\n",
    "    idces, times = sd.idces_times()\n",
    "    ax.scatter(times,idces,marker='|',s=1)   # Creates spike raster\n",
    "    ax.set_title( title )\n",
    "    ax.set_xlabel(\"Time(s)\")\n",
    "    ax.set_ylabel('Unit #')"
   ]
  },
  {
   "cell_type": "code",
   "execution_count": null,
   "id": "d61a8933",
   "metadata": {},
   "outputs": [],
   "source": [
    "def get_sttc(sd):\n",
    "    \"\"\"\n",
    "    Returns the spike time tiling coefficient of a spike data object\n",
    "        sd : spike data object from braingeneers\n",
    "        returns : N x N matrix of STTC values\n",
    "    \"\"\"\n",
    "\n",
    "    sttc = sd.spike_time_tilings()\n",
    "    return sttc\n",
    "\n",
    "def correlation(sd):\n",
    "    \"\"\"\n",
    "    Returns the correlation matrix of a spike data object\n",
    "        sd : spike data object from braingeneers\n",
    "        returns : N x N matrix of correlation values\n",
    "    \"\"\"\n",
    "    \n",
    "    corr = np.zeros((sd.N,sd.N)) #inds by inds\n",
    "    \n",
    "    dense_raster = sd.raster(bin_size=1) # in ms\n",
    "    sigma = 5                            # Blur it\n",
    "    dense_raster = gaussian_filter1d(dense_raster.astype(float),sigma=sigma)\n",
    "    corr=np.corrcoef( dense_raster )\n",
    "        \n",
    "    return corr;\n",
    "\n",
    "def eigenvalues_eigenvectors(sd): # gets the eigenvalues and eigenvectors of a matrix\n",
    "    \"\"\"\n",
    "    returns the eigenvalues and eigenvectors of a matrix\n",
    "        sd : spike data object from braingeneers\n",
    "        returns : eigenvalues, eigenvectors\n",
    "    \"\"\"\n",
    "\n",
    "    W, U = np.linalg.eigh(sd)\n",
    "    # The rank of A can be no greater than the smaller of its\n",
    "    # dimensions, so cut off the returned values there.\n",
    "    rank = min(*sd.shape)\n",
    "    U = U[:,-rank:]\n",
    "    sgn = (-1)**(U[0,:] < 0)\n",
    "    # Also reverse the order of the eigenvalues because eigh()\n",
    "    # returns them in ascending order but descending makes more sense.\n",
    "    return W[-rank:][::-1], (U*sgn[np.newaxis,:])[:, ::-1]\n"
   ]
  },
  {
   "cell_type": "code",
   "execution_count": null,
   "id": "c8f25e89",
   "metadata": {},
   "outputs": [],
   "source": [
    "def correlation_plot(sd):\n",
    "    # Correlation\n",
    "    corr = np.zeros((sd.N,sd.N)) #inds by inds\n",
    "\n",
    "    dense_raster = sd.raster(bin_size=1) # in ms\n",
    "    sigma = 5                            # Blur it\n",
    "    dense_raster = gaussian_filter1d(dense_raster.astype(float),sigma=sigma) \n",
    "    corr=np.corrcoef( dense_raster )\n",
    "    \n",
    "    plt.imshow(corr)\n",
    "    plt.xlabel(\"Neuron index\")\n",
    "    plt.ylabel(\"Neuron index\")\n",
    "    plt.show() \n",
    "\n",
    "def STTC_plot(sd):\n",
    "    # STTC\n",
    "\n",
    "    sttc = get_sttc(sd)\n",
    "    \n",
    "    \n",
    "    plt.imshow(sttc)\n",
    "    plt.xlabel(\"Neuron index\")\n",
    "    plt.ylabel(\"Neuron index\")\n",
    "    plt.show() \n",
    "\n",
    "def plot_evectmatrix(sd):\n",
    "    \"\"\"\n",
    "    Plots the eigenvectors of the correlation and STTC matrices for a given spike data object.\n",
    "        sd : spike data object from braingeneers\n",
    "    \"\"\"\n",
    "    \n",
    "    fig, plot = plt.subplot_mosaic(\"AB\", figsize=(14,7))\n",
    "    \n",
    "    corr = correlation(sd)\n",
    "    sttc = get_sttc(sd)\n",
    "\n",
    "    Wcorr, Ucorr = eigenvalues_eigenvectors(corr)\n",
    "    Wsttc, Usttc = eigenvalues_eigenvectors(sttc)\n",
    "\n",
    "    # Plot Correlation Matrix\n",
    "    pltA = plot[\"A\"].imshow(Ucorr[:,:2*len(Ucorr)].T, interpolation='none', cmap=\"magma\")\n",
    "    #plot[\"A\"].gca().set_aspect('auto')\n",
    "    plot[\"A\"].set_ylabel('Eigenvector Number')\n",
    "    plot[\"A\"].set_xlabel('Observation Dimension')\n",
    "    plot[\"A\"].set_title('Eigenvectors of Correlation')\n",
    "    fig.colorbar(pltA, ax=plot[\"A\"], shrink=0.7)\n",
    "    \n",
    "    # Plot STTC matrix\n",
    "    pltA = plot[\"B\"].imshow(Usttc[:,:2*len(Usttc)].T, interpolation='none', cmap=\"magma\")\n",
    "    #plot[\"B\"].gca().set_aspect('auto')\n",
    "    plot[\"B\"].set_ylabel('Eigenvector Number')\n",
    "    plot[\"B\"].set_xlabel('Observation Dimension')\n",
    "    plot[\"B\"].set_title('Eigenvectors of STTC')\n",
    "    fig.colorbar(pltA, ax=plot[\"B\"], shrink=0.7)"
   ]
  },
  {
   "cell_type": "markdown",
   "id": "9386aea4",
   "metadata": {},
   "source": [
    "# <font color=\"red\">Bookend"
   ]
  },
  {
   "cell_type": "code",
   "execution_count": null,
   "id": "c3e44dec",
   "metadata": {},
   "outputs": [
    {
     "name": "stdout",
     "output_type": "stream",
     "text": [
      "Done at: 2024/06/03 16:27:28\n"
     ]
    }
   ],
   "source": [
    "now = datetime.now(Timezone)\n",
    "printNow = now.strftime(\"%Y/%m/%d %H:%M:%S\")\n",
    "\n",
    "print(f\"Done at: {printNow}\")"
   ]
  },
  {
   "cell_type": "code",
   "execution_count": null,
   "id": "3797639b",
   "metadata": {},
   "outputs": [],
   "source": []
  }
 ],
 "metadata": {
  "kernelspec": {
   "display_name": "notebook",
   "language": "python",
   "name": "python3"
  },
  "language_info": {
   "codemirror_mode": {
    "name": "ipython",
    "version": 3
   },
   "file_extension": ".py",
   "mimetype": "text/x-python",
   "name": "python",
   "nbconvert_exporter": "python",
   "pygments_lexer": "ipython3",
   "version": "3.10.0"
  }
 },
 "nbformat": 4,
 "nbformat_minor": 5
}
